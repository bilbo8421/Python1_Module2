{
 "cells": [
  {
   "cell_type": "markdown",
   "metadata": {},
   "source": [
    "## Exercises\n",
    "### Write the pseudocode for these problems. \n",
    "\n",
    "#### Define the problem by constructing an IPO diagram showing input, output, and processing steps\n",
    "Ask yourself\n",
    "- What control structures (sequence, selection and repetition) are required?\n",
    "- What variables are required?\n",
    "\n",
    "Show a check of your solution with **test data** for at least **two valid test cases**\n",
    "If you use the numbers provided in the example then the correct pseudocode will calculate the same result.\n",
    "    "
   ]
  },
  {
   "cell_type": "markdown",
   "metadata": {},
   "source": [
    "#### 1. Find the average score\n",
    "A program is needed to prompt the user operator for exam scores, calculate the average score and display the result to the screen. The average score is calculated as the sum of the scores divided by the number of scores."
   ]
  },
  {
   "cell_type": "markdown",
   "metadata": {},
   "source": [
    "BEGIN\\\n",
    "&nbsp;SET X TO 1 (initialize dividend)\\\n",
    "&nbsp;SET SCORE TO 0\\\n",
    "&nbsp;SET TTLSCORE TO 0\\\n",
    "&nbsp;LOOP\\\n",
    "&emsp;PROMPT USER FOR SCORE\\\n",
    "&emsp;TTLSCORE = SCORE + TTLSCORE\\\n",
    "&emsp;AVGSCORE = TTLSCORE/X\\\n",
    "&emsp;PRINT (AVGSCORE, 'for', X, 'test scores')\\\n",
    "&emsp;X = X + 1\\\n",
    "&nbsp;END LOOP\\\n",
    "END"
   ]
  },
  {
   "cell_type": "markdown",
   "metadata": {},
   "source": [
    "#### 2. How much water runs off a roof in a rain storm?\n",
    "To calculate the runoff from any given rainfall: Take the dimensions of the footprint of the roof and convert them to inches. (So, a 50' x 20' roof is 600\" x 240\"). Multiply the roof dimensions by the number of inches of rainfall. As an example, 600\" x 240\" x 1\" = 144,000 cubic inches of water for an inch of rainfall. Divide that result by 231 to get the number of gallons (because 1 gallon = 231 cubic inches). (144,000/231 = 623.38)."
   ]
  },
  {
   "cell_type": "code",
   "execution_count": 1,
   "metadata": {},
   "outputs": [
    {
     "name": "stdout",
     "output_type": "stream",
     "text": [
      "The total volume of rainfall = 623.38 gallons\n"
     ]
    }
   ],
   "source": [
    "## bldg-width-ft\n",
    "bldg_width = 50\n",
    "## bldg-depth-ft\n",
    "bldg_depth = 20\n",
    "## rainfall-inch\n",
    "rf_depth = 1\n",
    "## total-rainfall-volume-gallons\n",
    "rainfall_volume = bldg_width * bldg_depth * 144 * rf_depth/231\n",
    "print(\"The total volume of rainfall = \",end=\"\")  \n",
    "print (round(rainfall_volume,2), 'gallons')"
   ]
  },
  {
   "cell_type": "markdown",
   "metadata": {},
   "source": [
    "#### 3. Process customer record\n",
    "A program is required to read a customer’s name, a purchase amount and a tax code. The tax code has been validated and will be one of the following: 0 tax exempt (0%) 1 state sales tax only (3%) 2 federal and state sales tax (5%) 3 special sales tax (7%) The program must then compute the sales tax and the total amount due,and print the customer’s name, purchase amount, sales tax and total amount due."
   ]
  },
  {
   "cell_type": "code",
   "execution_count": 2,
   "metadata": {},
   "outputs": [
    {
     "name": "stdout",
     "output_type": "stream",
     "text": [
      "Ebbie Jebbies made a net purchase of $ 135.15 , Sales tax = $ 6.76 , Total Amount Due = $ 141.91\n"
     ]
    }
   ],
   "source": [
    "## enter customer name\n",
    "customer_name = 'Ebbie Jebbies'\n",
    "## enter purchase amount\n",
    "purchase_amount = 135.15 \n",
    "## enter a tax code id (0-3)\n",
    "tax_code_id = 2\n",
    "## assign sales tax %     \n",
    "if tax_code_id == 0:\n",
    "    sales_tax = 0   \n",
    "elif tax_code_id == 1:\n",
    "    sales_tax = .03    \n",
    "elif tax_code_id == 2:\n",
    "    sales_tax = .05\n",
    "elif tax_code_id == 3:\n",
    "    sales_tax = .07\n",
    "else:\n",
    "    sales_tax = 0\n",
    "    print('** A tax_code_id =',tax_code_id,'is not a valid id number! Enter a number from 0 to 3.')\n",
    "    \n",
    "## sales tax amount    \n",
    "sales_tax_amount = sales_tax * purchase_amount\n",
    "## total amount due\n",
    "total_amount_due = purchase_amount + sales_tax_amount\n",
    "print(customer_name, 'made a net purchase of $',purchase_amount,', Sales tax = $',round(sales_tax_amount,2),', Total Amount Due = $',round(total_amount_due,2))"
   ]
  },
  {
   "cell_type": "raw",
   "metadata": {},
   "source": [
    "#### 4. Calculate employee's pay \n",
    "A program is required by a company to read an employee’s number, pay rate and the number of hours worked in a week. The program is then to validate the pay rate field and the hours worked field and, if valid, compute the employee’s weekly pay and then print it and the input data.\n",
    "\n",
    "Validation: According to the company’s rules, the maximum hours an employee can work per week is 60 hours, and the maximum hourly rate is $25.00 per hour. If the hours worked field or the hourly rate field is out of range, the input data and an appropriate message are to be printed and the employee’s weekly pay is not to be calculated.\n",
    "\n",
    "Weekly pay calculation: Weekly pay is calculated as hours worked times pay rate. If more than 35 hours are worked, payment for the overtime hours worked is calculated at time-and-a-half."
   ]
  },
  {
   "cell_type": "markdown",
   "metadata": {},
   "source": [
    "**VARIABLES**\\\n",
    "employee_number\\\n",
    "emp_pay_rate\\\n",
    "ttl_hrs_worked\\\n",
    "std_max_hrs_wk = 35\\\n",
    "max_ttl_hrs_wk = 60\\\n",
    "max_calc_hr_rate = 25\\\n",
    "*calc_pay_rate*\\\n",
    "*emp_total_pay*\\\n",
    "\\\n",
    "**CALCULATED PAY RATE**\\\n",
    "IF (ttl_hours_worked > std_max_hrs_wk)\\\n",
    "*emp_total_pay* = std_max_hrs_wk * emp_pay_rate + (ttl_hrs_worked - std_max_hrs_wk) * 1.5 * emp_pay_rate\\\n",
    "*calc_pay_rate* = emp_total_pay/ttl_hrs_worked\\\n",
    "ELSE\\\n",
    "*emp_total_pay* = emp_pay_rate * ttl_hrs_worked\\\n",
    "*calc_pay_rate* = emp_total_pay/ttl_hrs_worked\\\n",
    "END IF\\\n",
    "\\\n",
    "**IF CONDITIONS ARE EXCEEDED** / (DO NOT PRINT PAY)\\\n",
    "IF (calc_pay_rate > max_calc_hr_rate > OR ttl_hours_worked > max_ttl_hrs_wk)\\\n",
    "PRINT ('ATTENTION! Employee has exceeded', max_ttl_hrs_wk, 'AND/OR @', max_calc_hr_Rate, 'per hour. (Do Not Print Pay!))'\\\n",
    "ELSE / **OK** (PRINT PAY)\\\n",
    "PRINT (employee_number,'> Total Hrs worked =',ttl_hrs_worked, 'Calculated Pay Rate =',calc_pay_rate,'Employee Total Pay =\",emp_total_pay)\\  \n",
    "END IF"
   ]
  },
  {
   "cell_type": "raw",
   "metadata": {},
   "source": []
  },
  {
   "cell_type": "raw",
   "metadata": {},
   "source": []
  }
 ],
 "metadata": {
  "kernelspec": {
   "display_name": "Python 3 (ipykernel)",
   "language": "python",
   "name": "python3"
  },
  "language_info": {
   "codemirror_mode": {
    "name": "ipython",
    "version": 3
   },
   "file_extension": ".py",
   "mimetype": "text/x-python",
   "name": "python",
   "nbconvert_exporter": "python",
   "pygments_lexer": "ipython3",
   "version": "3.11.7"
  }
 },
 "nbformat": 4,
 "nbformat_minor": 4
}
